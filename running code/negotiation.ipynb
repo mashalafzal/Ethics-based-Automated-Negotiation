{
 "cells": [
  {
   "cell_type": "code",
   "execution_count": null,
   "metadata": {
    "execution": {
     "iopub.execute_input": "2023-09-28T09:14:55.542467Z",
     "iopub.status.busy": "2023-09-28T09:14:55.542467Z",
     "iopub.status.idle": "2023-09-28T09:14:55.563646Z",
     "shell.execute_reply": "2023-09-28T09:14:55.562763Z"
    }
   },
   "outputs": [],
   "source": [
    "#restart the kernal at each iteration\n",
    "from IPython.display import display, Javascript\n",
    "display(Javascript('''\n",
    "    var kernel = Jupyter.notebook.kernel;\n",
    "    var command = \"notebook.kernel.restart();\";\n",
    "    kernel.execute(command);\n",
    "    command = \"notebook.execute_all_cells();\";\n",
    "    kernel.execute(command);\n",
    "'''))\n"
   ]
  },
  {
   "cell_type": "code",
   "execution_count": null,
   "metadata": {
    "execution": {
     "iopub.execute_input": "2023-09-28T09:14:55.582646Z",
     "iopub.status.busy": "2023-09-28T09:14:55.582646Z",
     "iopub.status.idle": "2023-09-28T09:14:55.594200Z",
     "shell.execute_reply": "2023-09-28T09:14:55.594200Z"
    }
   },
   "outputs": [],
   "source": [
    "#record the total computation time\n",
    "import time\n",
    "start_time = time.time()"
   ]
  },
  {
   "cell_type": "code",
   "execution_count": null,
   "metadata": {
    "execution": {
     "iopub.execute_input": "2023-09-28T09:14:55.598211Z",
     "iopub.status.busy": "2023-09-28T09:14:55.597212Z",
     "iopub.status.idle": "2023-09-28T09:14:57.151720Z",
     "shell.execute_reply": "2023-09-28T09:14:57.151720Z"
    }
   },
   "outputs": [],
   "source": [
    "from all_functions import *"
   ]
  },
  {
   "cell_type": "code",
   "execution_count": null,
   "metadata": {
    "execution": {
     "iopub.execute_input": "2023-09-28T09:14:57.154745Z",
     "iopub.status.busy": "2023-09-28T09:14:57.154745Z",
     "iopub.status.idle": "2023-09-28T09:14:57.167090Z",
     "shell.execute_reply": "2023-09-28T09:14:57.167090Z"
    }
   },
   "outputs": [],
   "source": [
    "#record the time to generate input\n",
    "start_input_generate_time = time.time()"
   ]
  },
  {
   "cell_type": "code",
   "execution_count": null,
   "metadata": {
    "execution": {
     "iopub.execute_input": "2023-09-28T09:14:57.170088Z",
     "iopub.status.busy": "2023-09-28T09:14:57.170088Z",
     "iopub.status.idle": "2023-09-28T09:14:57.372003Z",
     "shell.execute_reply": "2023-09-28T09:14:57.372003Z"
    }
   },
   "outputs": [],
   "source": [
    "#generate and read user inputs\n",
    "\n",
    "if __name__ == \"__main__\":\n",
    "    filename = \"userInputs.xlsx\"  # Specify the filename\n",
    "    generate_user_input(filename)\n",
    "    print(f\"Excel file '{filename}' generated with 100 random conditions for User A and B.\")\n",
    "\n",
    "    A_data, B_data = read_user_input(filename)"
   ]
  },
  {
   "cell_type": "code",
   "execution_count": null,
   "metadata": {
    "execution": {
     "iopub.execute_input": "2023-09-28T09:14:57.374995Z",
     "iopub.status.busy": "2023-09-28T09:14:57.374995Z",
     "iopub.status.idle": "2023-09-28T09:14:57.389969Z",
     "shell.execute_reply": "2023-09-28T09:14:57.388978Z"
    }
   },
   "outputs": [],
   "source": [
    "end_input_generate_time = time.time()\n",
    "input_generate_time = end_input_generate_time - start_input_generate_time\n",
    "print(\"Time taken to generate and read user inputs:\", input_generate_time)"
   ]
  },
  {
   "cell_type": "code",
   "execution_count": null,
   "metadata": {
    "execution": {
     "iopub.execute_input": "2023-09-28T09:14:57.391966Z",
     "iopub.status.busy": "2023-09-28T09:14:57.391966Z",
     "iopub.status.idle": "2023-09-28T09:14:57.403746Z",
     "shell.execute_reply": "2023-09-28T09:14:57.402880Z"
    }
   },
   "outputs": [],
   "source": [
    "# count how many inputs conditions are true for A and B\n",
    "A_yes_count, B_yes_count = count_yes_conditions(A_data, B_data)\n",
    "print(\"A_yes_count:\", A_yes_count)\n",
    "print(\"B_yes_count:\", B_yes_count)\n"
   ]
  },
  {
   "cell_type": "code",
   "execution_count": null,
   "metadata": {
    "execution": {
     "iopub.execute_input": "2023-09-28T09:14:57.405747Z",
     "iopub.status.busy": "2023-09-28T09:14:57.405747Z",
     "iopub.status.idle": "2023-09-28T09:14:57.418252Z",
     "shell.execute_reply": "2023-09-28T09:14:57.418252Z"
    }
   },
   "outputs": [],
   "source": [
    "#record time for generating ethical profiles\n",
    "start_profile_generate_time = time.time()"
   ]
  },
  {
   "cell_type": "code",
   "execution_count": null,
   "metadata": {
    "execution": {
     "iopub.execute_input": "2023-09-28T09:14:57.421226Z",
     "iopub.status.busy": "2023-09-28T09:14:57.420324Z",
     "iopub.status.idle": "2023-09-28T09:14:57.590147Z",
     "shell.execute_reply": "2023-09-28T09:14:57.588970Z"
    }
   },
   "outputs": [],
   "source": [
    "#generate and read profiles for A and B\n",
    "\n",
    "if __name__ == \"__main__\":\n",
    "    filename = \"profiles.xlsx\"  # Specify the filename\n",
    "    generate_profiles(filename)\n",
    "    print(f\"Excel file '{filename}' generated with modified requirements.\")\n",
    "\n",
    "    A_profiles, B_profiles = read_profiles(filename)\n",
    "\n",
    "    # Sort the profiles by the highest value\n",
    "    A_profile = dict(sorted(A_profiles.items(), key=lambda x: x[1][1], reverse=True))\n",
    "    B_profile = dict(sorted(B_profiles.items(), key=lambda x: x[1][1], reverse=True))"
   ]
  },
  {
   "cell_type": "code",
   "execution_count": null,
   "metadata": {
    "execution": {
     "iopub.execute_input": "2023-09-28T09:14:57.592153Z",
     "iopub.status.busy": "2023-09-28T09:14:57.592153Z",
     "iopub.status.idle": "2023-09-28T09:14:57.605332Z",
     "shell.execute_reply": "2023-09-28T09:14:57.604439Z"
    }
   },
   "outputs": [],
   "source": [
    "end_profile_generate_time = time.time()\n",
    "profile_generate_time = end_profile_generate_time - start_profile_generate_time\n",
    "print(\"Time taken to generate and read profiles:\", profile_generate_time)"
   ]
  },
  {
   "cell_type": "code",
   "execution_count": null,
   "metadata": {
    "execution": {
     "iopub.execute_input": "2023-09-28T09:14:57.607295Z",
     "iopub.status.busy": "2023-09-28T09:14:57.607295Z",
     "iopub.status.idle": "2023-09-28T09:14:57.621387Z",
     "shell.execute_reply": "2023-09-28T09:14:57.620521Z"
    }
   },
   "outputs": [],
   "source": [
    "#record time for generating tasks\n",
    "start_task_generate_time = time.time()"
   ]
  },
  {
   "cell_type": "code",
   "execution_count": null,
   "metadata": {
    "execution": {
     "iopub.execute_input": "2023-09-28T09:14:57.623382Z",
     "iopub.status.busy": "2023-09-28T09:14:57.623382Z",
     "iopub.status.idle": "2023-09-28T09:14:57.924469Z",
     "shell.execute_reply": "2023-09-28T09:14:57.923606Z"
    }
   },
   "outputs": [],
   "source": [
    "#generate assign tasks to a specified user in an existing Excel file \n",
    "\n",
    "if __name__ == \"__main__\":\n",
    "    filename = \"tasks.xlsx\"  # Specify the filename\n",
    "    generate_tasks(filename)\n",
    "    print(f\"Excel file '{filename}' generated with tasks and descriptions.\")\n",
    "\n",
    "    A_tasks = assign_tasks(filename, \"A_tasks\")\n",
    "    B_tasks = assign_tasks(filename, \"B_tasks\")"
   ]
  },
  {
   "cell_type": "code",
   "execution_count": null,
   "metadata": {
    "execution": {
     "iopub.execute_input": "2023-09-28T09:14:57.926570Z",
     "iopub.status.busy": "2023-09-28T09:14:57.926570Z",
     "iopub.status.idle": "2023-09-28T09:14:57.939479Z",
     "shell.execute_reply": "2023-09-28T09:14:57.938626Z"
    }
   },
   "outputs": [],
   "source": [
    "end_task_generate_time = time.time()\n",
    "task_generate_time = end_task_generate_time - start_task_generate_time\n",
    "print(\"Time taken to generate and read tasks:\", task_generate_time)"
   ]
  },
  {
   "cell_type": "code",
   "execution_count": null,
   "metadata": {
    "execution": {
     "iopub.execute_input": "2023-09-28T09:14:57.942514Z",
     "iopub.status.busy": "2023-09-28T09:14:57.942514Z",
     "iopub.status.idle": "2023-09-28T09:14:57.955069Z",
     "shell.execute_reply": "2023-09-28T09:14:57.954055Z"
    }
   },
   "outputs": [],
   "source": [
    "#record time for computing task implication\n",
    "start_Task_implications_time = time.time()"
   ]
  },
  {
   "cell_type": "code",
   "execution_count": null,
   "metadata": {
    "execution": {
     "iopub.execute_input": "2023-09-28T09:14:57.958041Z",
     "iopub.status.busy": "2023-09-28T09:14:57.958041Z",
     "iopub.status.idle": "2023-09-28T09:14:58.344292Z",
     "shell.execute_reply": "2023-09-28T09:14:58.344292Z"
    }
   },
   "outputs": [],
   "source": [
    "#compute task implications\n",
    "\n",
    "A_task_implication = create_task_implication(A_tasks, A_profile)\n",
    "B_task_implication = create_task_implication(B_tasks, B_profile)\n",
    "\n",
    "result_df_A = calculate_task_value(A_profile, A_task_implication, 'A')\n",
    "result_df_B = calculate_task_value(B_profile, B_task_implication, 'B')\n"
   ]
  },
  {
   "cell_type": "code",
   "execution_count": null,
   "metadata": {
    "execution": {
     "iopub.execute_input": "2023-09-28T09:14:58.347299Z",
     "iopub.status.busy": "2023-09-28T09:14:58.346384Z",
     "iopub.status.idle": "2023-09-28T09:14:58.360221Z",
     "shell.execute_reply": "2023-09-28T09:14:58.360221Z"
    }
   },
   "outputs": [],
   "source": [
    "end_Task_implications_time = time.time()\n",
    "Task_implications_time = end_Task_implications_time - start_Task_implications_time\n",
    "print(\"Time taken to calculate task implications:\", Task_implications_time)"
   ]
  },
  {
   "cell_type": "code",
   "execution_count": null,
   "metadata": {
    "execution": {
     "iopub.execute_input": "2023-09-28T09:14:58.362248Z",
     "iopub.status.busy": "2023-09-28T09:14:58.362248Z",
     "iopub.status.idle": "2023-09-28T09:14:58.580424Z",
     "shell.execute_reply": "2023-09-28T09:14:58.579526Z"
    }
   },
   "outputs": [],
   "source": [
    "#map user input with principles\n",
    "A_data_to_profiles = assign_data_to_profiles(A_data, A_profiles)\n",
    "B_data_to_profiles = assign_data_to_profiles(B_data, B_profiles)\n",
    "\n",
    "data, profiles, Task_implications, Task_value, data_associated_to_principles, Total_tasks = get_all_data(A_data, B_data, A_profiles, B_profiles, A_task_implication, B_task_implication, result_df_A, result_df_B, A_data_to_profiles, B_data_to_profiles, A_tasks, B_tasks)\n",
    "agents = assign_data_to_agent(data, profiles, Task_implications, Task_value, data_associated_to_principles, Total_tasks)"
   ]
  },
  {
   "cell_type": "code",
   "execution_count": null,
   "metadata": {
    "execution": {
     "iopub.execute_input": "2023-09-28T09:14:58.583423Z",
     "iopub.status.busy": "2023-09-28T09:14:58.582503Z",
     "iopub.status.idle": "2023-09-28T09:15:19.312429Z",
     "shell.execute_reply": "2023-09-28T09:15:19.312429Z"
    }
   },
   "outputs": [],
   "source": [
    "#main negotiation class\n",
    "\n",
    "class Negotiation:\n",
    "\n",
    "    num_rounds = 10000 # maximum number of runs\n",
    "\n",
    "\n",
    "    def __init__(self, agents):\n",
    "        self.agents = agents\n",
    "        self.played_rounds = 0\n",
    "        self.agreement_rounds = 0 \n",
    "        self.A_agreement_rounds = 0\n",
    "        self.B_agreement_rounds = 0\n",
    "        self.no_agreement_rounds = 0\n",
    "        self.A_no_agreement_rounds = 0\n",
    "        self.B_no_agreement_rounds = 0\n",
    "        self.A_quit_rounds = 0\n",
    "        self.B_quit_rounds = 0\n",
    "        self.old_sender = None\n",
    "        self.start_decision_time = 0\n",
    "        self.end_decision_time = 0\n",
    "\n",
    "\n",
    "    def run(self):\n",
    "\n",
    "        S_offer = {}\n",
    "        S_utility = {}\n",
    "        S_sorted_offers = {}\n",
    "        S_remaining_offers = {}  \n",
    "        R_offer = {}\n",
    "        R_utility = {}\n",
    "        R_sorted_offers = {}\n",
    "        R_remaining_offers = {}\n",
    "\n",
    "\n",
    "        #for 1st round\n",
    "        for i in range(1, self.num_rounds + 1):\n",
    "            if i == 1:\n",
    "                print(\"Round: \", i)\n",
    "\n",
    "                #choose sender and receiver\n",
    "                sender, receiver = select_sender_receiver(self.agents)\n",
    "                print(\"Sender agent is: \", sender)\n",
    "                print(\"Receiver agent is: \", receiver)\n",
    "                self.old_sender = sender\n",
    "\n",
    "                #count time for generating alternative offers for sender\n",
    "                start_sender_offer_time = time.perf_counter()\n",
    "\n",
    "                #call offer generation function for sender\n",
    "                sender_offers = generate_offers(sender, self.agents)\n",
    "\n",
    "                end_sender_offer_time = time.perf_counter()\n",
    "\n",
    "\n",
    "                #call the function to send an offer following a tactic for sender\n",
    "                S_offer, S_utility, S_remaining_offers, S_all_offers = find_best_offer(sender_offers)\n",
    "                print(sender, \"sends offer as : \", S_offer)\n",
    "\n",
    "                #count time for generating alternative offers for receiver\n",
    "                start_receiver_offer_time = time.perf_counter()\n",
    "\n",
    "                #call offer generation function for receiver\n",
    "                receiver_offers = generate_offers(receiver, self.agents)\n",
    "\n",
    "                end_receiver_offer_time = time.perf_counter()\n",
    "\n",
    "                #call the function to send an offer following a tactic for receiver\n",
    "                R_offer, R_utility, R_remaining_offers, R_all_offers = find_best_offer(receiver_offers)\n",
    "                print(\"and\", receiver, \"would like to do : \", R_offer)\n",
    "                \n",
    "\n",
    "                #call calculate utility function \n",
    "                print(\"******** Receiver calculates utility for both offers ********\")\n",
    "                sender_utility, receiver_utility, utility = calculate_new_random_utility(S_offer, receiver, self.agents, R_offer)\n",
    "\n",
    "                print(\"Sender's offer utility: \", sender_utility)\n",
    "                print(\"Receiver's offer utility that it wants to do: \", receiver_utility)\n",
    "                print(\"Calculated Utility: \", utility)\n",
    "                \n",
    "\n",
    "                # Decision making\n",
    "                if utility > 0:\n",
    "                    print(receiver, \"accepts the offer from \", sender)\n",
    "                    print(\"Round\", i, \"ends\")\n",
    "                    print(\"*********************************\")\n",
    "                    self.agreement_rounds += 1\n",
    "                    self.played_rounds += 1\n",
    "                    i += 1\n",
    "\n",
    "                    if receiver == 'A':\n",
    "                        self.A_agreement_rounds += 1\n",
    "                    elif receiver == 'B':\n",
    "                        self.B_agreement_rounds += 1\n",
    "                    break\n",
    "\n",
    "                elif utility <= 0:\n",
    "                    print(receiver, \"rejects the offer of \", sender)\n",
    "                    print(\"Round\", i, \"ends\")\n",
    "                    print(\"*********************************\")\n",
    "                    self.no_agreement_rounds += 1\n",
    "                    self.played_rounds += 1\n",
    "                    i += 1\n",
    "\n",
    "                    if receiver == 'A':\n",
    "                        self.A_no_agreement_rounds += 1\n",
    "                    elif receiver == 'B':\n",
    "                        self.B_no_agreement_rounds += 1\n",
    "                \n",
    "\n",
    "                reuse_offer = R_offer\n",
    "\n",
    "                print(\"_______________________________________________________\")\n",
    "\n",
    "\n",
    "            #for 2nd round\n",
    "\n",
    "            else:\n",
    "                print(\"Round: \", i)\n",
    "\n",
    "                #switch roles\n",
    "                sender, receiver= switch_role(sender, receiver)\n",
    "                print(\"Sender agent is: \", sender)\n",
    "                print(\"Receiver agent is: \", receiver)\n",
    "\n",
    "                #switch data\n",
    "                S_offer, S_utility, S_sorted_offers, S_remaining_offers, R_offer, R_utility, R_sorted_offers, R_remaining_offers = switch_data(S_offer, S_utility, S_sorted_offers, S_remaining_offers, R_offer, R_utility, R_sorted_offers, R_remaining_offers)\n",
    "                \n",
    "\n",
    "                #sender's offer\n",
    "                S_offer = reuse_offer\n",
    "                if S_offer == {}:\n",
    "                    print(sender, \"wants to: QUIT Negotiation\")\n",
    "                else:\n",
    "                    print(sender, \"sends offer as : \", S_offer)\n",
    "                \n",
    "    \n",
    "                #receiver offer\n",
    "                if len(R_remaining_offers) == 0:\n",
    "                    R_offer = {}\n",
    "                    print(receiver, \"wants to: QUIT Negotiation\")\n",
    "\n",
    "                elif len(R_remaining_offers) == 1:\n",
    "                    k, val = random.choice(list(R_remaining_offers.items()))\n",
    "                    R_offer = {k: val['tasks']}\n",
    "                    print(\"and\", receiver, \"would like to do : \", R_offer)\n",
    "                    del R_remaining_offers[k]\n",
    "                    #it will return same offer\n",
    "\n",
    "\n",
    "                elif len(R_remaining_offers) > 1:\n",
    "                    R_offer, R_utility, R_remaining_offers = updated_dummy_best_offer(R_remaining_offers)\n",
    "                    print(\"and\", receiver, \"would like to do : \", R_offer)\n",
    "\n",
    "\n",
    "                self.start_decision_time = time.perf_counter()\n",
    "\n",
    "                \n",
    "                #call utility function\n",
    "                if S_offer == {}:\n",
    "                    print(\"Round\", i, \"ends\")\n",
    "                    print(\"*********************************\")\n",
    "                    self.no_agreement_rounds += 1\n",
    "                    self.played_rounds += 1\n",
    "                    i += 1\n",
    "\n",
    "                    if sender == 'A':\n",
    "                        self.A_quit_rounds += 1\n",
    "                    elif sender == 'B':\n",
    "                        self.B_quit_rounds += 1\n",
    "                    break\n",
    "\n",
    "            \n",
    "\n",
    "                elif R_offer == {}:\n",
    "                    print(\"Round\", i, \"ends\")\n",
    "                    print(\"*********************************\")\n",
    "                    self.quit_rounds += 1\n",
    "                    self.no_agreement_rounds += 1\n",
    "                    self.played_rounds += 1\n",
    "                    i += 1\n",
    "\n",
    "                    if receiver == 'A':\n",
    "                        self.A_quit_rounds += 1\n",
    "                    elif receiver == 'B':\n",
    "                        self.B_quit_rounds += 1\n",
    "                    break\n",
    "\n",
    "                \n",
    "                \n",
    "                elif S_offer != {} and R_offer != {}:\n",
    "                    print(\"******** Receiver calculates utility for both offers ********\")\n",
    "                    sender_utility, receiver_utility, utility = calculate_new_random_utility(S_offer, receiver, self.agents, R_offer)\n",
    "\n",
    "                    print(\"Sender's offer utility: \", sender_utility)\n",
    "                    print(\"Receiver's offer utility that it wants to do: \", receiver_utility)\n",
    "                    print(\"Calculated Utility: \", utility)\n",
    "\n",
    "\n",
    "                    # Decision making\n",
    "                    if utility > 0:\n",
    "                        print(receiver, \"accepts the offer from \", sender)\n",
    "                        print(\"Negotiation ends with agreemnet\")\n",
    "                        print(\"*********************************\")\n",
    "                        self.agreement_rounds += 1\n",
    "                        self.played_rounds += 1\n",
    "                        i += 1\n",
    "\n",
    "                        if receiver == 'A':\n",
    "                            self.A_agreement_rounds += 1\n",
    "                        elif sender == 'B':\n",
    "                            self.B_agreement_rounds += 1\n",
    "\n",
    "                        self.end_decision_time = time.perf_counter()\n",
    "                        break\n",
    "\n",
    "                    elif utility <= 0:\n",
    "                        print(receiver, \"rejects the offer of \", sender)\n",
    "                        print(\"Round\", i, \"ends\")\n",
    "                        print(\"*********************************\")\n",
    "                        self.no_agreement_rounds += 1\n",
    "                        self.played_rounds += 1\n",
    "                        i += 1\n",
    "\n",
    "                        if receiver == 'A':\n",
    "                            self.A_no_agreement_rounds += 1\n",
    "                        elif receiver == 'B':\n",
    "                            self.B_no_agreement_rounds += 1\n",
    "\n",
    "                        self.end_decision_time = time.perf_counter()\n",
    "\n",
    "                reuse_offer = R_offer\n",
    "                \n",
    "\n",
    "                print(\"_______________________________________________________\")\n",
    "\n",
    "        self.remaining_rounds = self.num_rounds - self.played_rounds\n",
    "        print(\"Total argued rounds: \", self.played_rounds)\n",
    "        print(\"Agreement rounds: \", self.agreement_rounds)\n",
    "        print(\"Rounds accepted by A: \", self.A_agreement_rounds)\n",
    "        print(\"Rounds accepted by B: \", self.B_agreement_rounds)\n",
    "        print(\"No-agreement reached in rounds: \", self.no_agreement_rounds)\n",
    "        print(\"Rounds rejected by A: \", self.A_no_agreement_rounds)\n",
    "        print(\"Rounds rejected by B: \", self.B_no_agreement_rounds)\n",
    "        print(\"Rounds quit by A: \", self.A_quit_rounds)\n",
    "        print(\"Rounds quit by B: \", self.B_quit_rounds)\n",
    "\n",
    "        self.sender_offer_time = end_sender_offer_time - start_sender_offer_time\n",
    "        self.receiver_offer_time = end_receiver_offer_time - start_receiver_offer_time\n",
    "        self.decision_time = self.end_decision_time - self.start_decision_time\n",
    "\n",
    "\n",
    "\n",
    "obj = Negotiation(agents)\n",
    "output =obj.run()\n",
    "\n"
   ]
  },
  {
   "cell_type": "code",
   "execution_count": null,
   "metadata": {
    "execution": {
     "iopub.execute_input": "2023-09-28T09:15:19.314822Z",
     "iopub.status.busy": "2023-09-28T09:15:19.314822Z",
     "iopub.status.idle": "2023-09-28T09:15:19.327257Z",
     "shell.execute_reply": "2023-09-28T09:15:19.327257Z"
    }
   },
   "outputs": [],
   "source": [
    "# record the total computation time\n",
    "end_time = time.time()\n",
    "elapsed_time = end_time - start_time\n",
    "print(f\"Running Time {elapsed_time} seconds.\")"
   ]
  },
  {
   "cell_type": "code",
   "execution_count": null,
   "metadata": {
    "execution": {
     "iopub.execute_input": "2023-09-28T09:15:19.330292Z",
     "iopub.status.busy": "2023-09-28T09:15:19.330292Z",
     "iopub.status.idle": "2023-09-28T09:15:19.343638Z",
     "shell.execute_reply": "2023-09-28T09:15:19.342792Z"
    }
   },
   "outputs": [],
   "source": [
    "# to generate teh csv file\n",
    "sender_offer_time = obj.sender_offer_time\n",
    "receiver_offer_time = obj.receiver_offer_time\n",
    "decision_time = obj.decision_time\n",
    "sender_offer_time = f'{sender_offer_time:.7f}'\n",
    "receiver_offer_time = f'{receiver_offer_time:.7f}'\n",
    "decision_time = f'{decision_time:.7f}'\n",
    "\n",
    "print(\"Input generate time:\", input_generate_time)\n",
    "print(\"Profile generate time:\", profile_generate_time)\n",
    "print(\"Task generate time:\", task_generate_time)\n",
    "print(\"Task implications calculation time:\", Task_implications_time)\n",
    "print(\"Sender offer generation time:\", sender_offer_time)\n",
    "print(\"Receiver offer generation time:\", receiver_offer_time)\n",
    "print(\"Decision-making time:\", decision_time)\n",
    "print(\"Total running taken:\", elapsed_time)\n",
    "\n",
    "num_rounds = obj.played_rounds\n",
    "print(\"Total rounds: \", num_rounds)\n",
    "\n",
    "input = 50\n",
    "mapping = 5\n",
    "\n",
    "print(\"Input: \", input)\n",
    "print(\"Mapping: \", mapping)\n",
    "\n",
    "sender = obj.old_sender\n",
    "print(\"sender: \", sender)\n",
    "\n",
    "print(f\"A_yes_counts: {A_yes_count}\")\n",
    "print(f\"B_yes_counts: {B_yes_count}\")"
   ]
  },
  {
   "cell_type": "code",
   "execution_count": null,
   "metadata": {
    "execution": {
     "iopub.execute_input": "2023-09-28T09:15:19.346702Z",
     "iopub.status.busy": "2023-09-28T09:15:19.346144Z",
     "iopub.status.idle": "2023-09-28T09:15:19.358431Z",
     "shell.execute_reply": "2023-09-28T09:15:19.358431Z"
    }
   },
   "outputs": [],
   "source": [
    "import pandas as pd\n",
    "\n",
    "results_list = []\n",
    "num_runs = 1  \n",
    "\n",
    "results_list.append({\n",
    "    'Iteration': num_runs,\n",
    "    'Input Generate Time': input_generate_time,\n",
    "    'Profile Generate Time': profile_generate_time,\n",
    "    'Task Generate Time': task_generate_time,\n",
    "    'Task Implications Time': Task_implications_time,\n",
    "    'Sender Offer Generation Time': sender_offer_time,\n",
    "    'Receiver Offer Generation Time': receiver_offer_time,\n",
    "    'Decision-making Time': decision_time,\n",
    "    'Running Time': elapsed_time,\n",
    "    'Total Rounds': num_rounds,\n",
    "    'Input': input,\n",
    "    'Mapping': mapping,\n",
    "    'Sender': sender,\n",
    "    'A_yes_counts': A_yes_count,\n",
    "    'B_yes_counts': B_yes_count\n",
    "})\n",
    "\n",
    "output_df = pd.DataFrame(results_list)\n",
    "\n",
    "# Save the DataFrame to a CSV file for one iteration\n",
    "output_df.to_csv('output.csv', index=False)\n",
    "\n"
   ]
  }
 ],
 "metadata": {
  "kernelspec": {
   "display_name": "base",
   "language": "python",
   "name": "python3"
  },
  "language_info": {
   "codemirror_mode": {
    "name": "ipython",
    "version": 3
   },
   "file_extension": ".py",
   "mimetype": "text/x-python",
   "name": "python",
   "nbconvert_exporter": "python",
   "pygments_lexer": "ipython3",
   "version": "3.9.12"
  }
 },
 "nbformat": 4,
 "nbformat_minor": 2
}
